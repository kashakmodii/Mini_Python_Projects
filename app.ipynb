{
 "cells": [
  {
   "cell_type": "code",
   "execution_count": null,
   "id": "686129bc-7080-4a7e-a13b-eb879b95d13d",
   "metadata": {},
   "outputs": [],
   "source": []
  },
  {
   "cell_type": "code",
   "execution_count": 1,
   "id": "21d3b797-f9ee-460a-876f-52dee1aeba72",
   "metadata": {},
   "outputs": [
    {
     "name": "stdout",
     "output_type": "stream",
     "text": [
      "Defaulting to user installation because normal site-packages is not writeable\n",
      "Collecting pikepdf\n",
      "  Downloading pikepdf-9.7.0-cp312-cp312-win_amd64.whl.metadata (8.3 kB)\n",
      "Requirement already satisfied: Pillow>=10.0.1 in c:\\programdata\\anaconda3\\lib\\site-packages (from pikepdf) (10.3.0)\n",
      "Collecting Deprecated (from pikepdf)\n",
      "  Downloading Deprecated-1.2.18-py2.py3-none-any.whl.metadata (5.7 kB)\n",
      "Requirement already satisfied: lxml>=4.8 in c:\\programdata\\anaconda3\\lib\\site-packages (from pikepdf) (5.2.1)\n",
      "Requirement already satisfied: packaging in c:\\programdata\\anaconda3\\lib\\site-packages (from pikepdf) (23.2)\n",
      "Requirement already satisfied: wrapt<2,>=1.10 in c:\\programdata\\anaconda3\\lib\\site-packages (from Deprecated->pikepdf) (1.14.1)\n",
      "Downloading pikepdf-9.7.0-cp312-cp312-win_amd64.whl (3.5 MB)\n",
      "   ---------------------------------------- 0.0/3.5 MB ? eta -:--:--\n",
      "   ---------------------------------------- 0.0/3.5 MB ? eta -:--:--\n",
      "   -- ------------------------------------- 0.3/3.5 MB ? eta -:--:--\n",
      "   ----- ---------------------------------- 0.5/3.5 MB 932.9 kB/s eta 0:00:04\n",
      "   -------- ------------------------------- 0.8/3.5 MB 1.1 MB/s eta 0:00:03\n",
      "   -------------- ------------------------- 1.3/3.5 MB 1.3 MB/s eta 0:00:02\n",
      "   -------------- ------------------------- 1.3/3.5 MB 1.3 MB/s eta 0:00:02\n",
      "   ----------------- ---------------------- 1.6/3.5 MB 1.2 MB/s eta 0:00:02\n",
      "   -------------------- ------------------- 1.8/3.5 MB 1.2 MB/s eta 0:00:02\n",
      "   ----------------------- ---------------- 2.1/3.5 MB 1.2 MB/s eta 0:00:02\n",
      "   -------------------------- ------------- 2.4/3.5 MB 1.1 MB/s eta 0:00:02\n",
      "   -------------------------- ------------- 2.4/3.5 MB 1.1 MB/s eta 0:00:02\n",
      "   ----------------------------- ---------- 2.6/3.5 MB 1.1 MB/s eta 0:00:01\n",
      "   ----------------------------- ---------- 2.6/3.5 MB 1.1 MB/s eta 0:00:01\n",
      "   -------------------------------- ------- 2.9/3.5 MB 1.0 MB/s eta 0:00:01\n",
      "   ----------------------------------- ---- 3.1/3.5 MB 1.0 MB/s eta 0:00:01\n",
      "   -------------------------------------- - 3.4/3.5 MB 1.1 MB/s eta 0:00:01\n",
      "   ---------------------------------------- 3.5/3.5 MB 1.1 MB/s eta 0:00:00\n",
      "Downloading Deprecated-1.2.18-py2.py3-none-any.whl (10.0 kB)\n",
      "Installing collected packages: Deprecated, pikepdf\n",
      "Successfully installed Deprecated-1.2.18 pikepdf-9.7.0\n"
     ]
    }
   ],
   "source": [
    "!pip install pikepdf"
   ]
  },
  {
   "cell_type": "code",
   "execution_count": 4,
   "id": "46ab78bc-1450-432b-91c5-883d34f50e78",
   "metadata": {},
   "outputs": [
    {
     "name": "stdout",
     "output_type": "stream",
     "text": [
      " * Serving Flask app '__main__'\n",
      " * Debug mode: off\n"
     ]
    },
    {
     "name": "stderr",
     "output_type": "stream",
     "text": [
      "WARNING: This is a development server. Do not use it in a production deployment. Use a production WSGI server instead.\n",
      " * Running on http://127.0.0.1:5000\n",
      "Press CTRL+C to quit\n"
     ]
    }
   ],
   "source": [
    "from flask import Flask, request, render_template, send_file\n",
    "from pikepdf import Pdf\n",
    "import os\n",
    "import threading\n",
    "\n",
    "app = Flask(__name__)\n",
    "os.makedirs(\"uploads\", exist_ok=True)\n",
    "\n",
    "@app.route('/')\n",
    "def home():\n",
    "    return render_template(\"index.html\")\n",
    "\n",
    "@app.route('/merge', methods=['POST'])\n",
    "def merge():\n",
    "    new_pdf = Pdf.new()\n",
    "    for f in request.files.getlist(\"pdfs\"):\n",
    "        path = \"uploads/\" + f.filename\n",
    "        f.save(path)\n",
    "        new_pdf.pages.extend(Pdf.open(path).pages)\n",
    "    new_pdf.save(\"uploads/Merged_pdf.pdf\")\n",
    "    return send_file(\"uploads/Merged_pdf.pdf\", as_attachment=True)\n",
    "\n",
    "threading.Thread(target=lambda: app.run(port=5000)).start()\n"
   ]
  },
  {
   "cell_type": "code",
   "execution_count": null,
   "id": "f7ab52b4-d1db-4f41-91ca-819b9a8196d3",
   "metadata": {},
   "outputs": [],
   "source": []
  }
 ],
 "metadata": {
  "kernelspec": {
   "display_name": "Python 3 (ipykernel)",
   "language": "python",
   "name": "python3"
  },
  "language_info": {
   "codemirror_mode": {
    "name": "ipython",
    "version": 3
   },
   "file_extension": ".py",
   "mimetype": "text/x-python",
   "name": "python",
   "nbconvert_exporter": "python",
   "pygments_lexer": "ipython3",
   "version": "3.12.4"
  }
 },
 "nbformat": 4,
 "nbformat_minor": 5
}
