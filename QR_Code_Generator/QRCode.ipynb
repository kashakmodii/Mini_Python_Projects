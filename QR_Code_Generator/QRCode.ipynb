{
 "cells": [
  {
   "cell_type": "markdown",
   "id": "6d310f61-2d1b-4ad1-9e42-6a6044b290b7",
   "metadata": {},
   "source": [
    "# QR Code Generator\r\n",
    "\r\n",
    "## Description\r\n",
    "This is a simple Python project that generates a QR code from a given URL using the `qrcode` library. The QR code is then saved as an image file (PNG format). \r\n",
    "\r\n",
    "You can use this notebook to generate QR codes for any URL or text of your choice.\r\n",
    "\r\n",
    "## Installation\r\n",
    "\r\n",
    "To run this project, make sure you have the following libraries installed:\r\n",
    "\r\n",
    "```bash\r\n",
    "pip install qrcode[pil]\r\n"
   ]
  },
  {
   "cell_type": "code",
   "execution_count": 1,
   "id": "8522c0bb-c564-4650-bba7-323908d399c5",
   "metadata": {},
   "outputs": [
    {
     "name": "stdout",
     "output_type": "stream",
     "text": [
      "Defaulting to user installation because normal site-packages is not writeable\n",
      "Requirement already satisfied: qrcode[pil] in c:\\users\\admin\\appdata\\roaming\\python\\python312\\site-packages (8.0)\n",
      "Requirement already satisfied: colorama in c:\\programdata\\anaconda3\\lib\\site-packages (from qrcode[pil]) (0.4.6)\n",
      "Requirement already satisfied: pillow>=9.1.0 in c:\\programdata\\anaconda3\\lib\\site-packages (from qrcode[pil]) (10.3.0)\n"
     ]
    },
    {
     "name": "stderr",
     "output_type": "stream",
     "text": [
      "\n",
      "[notice] A new release of pip is available: 25.0.1 -> 25.1.1\n",
      "[notice] To update, run: python.exe -m pip install --upgrade pip\n"
     ]
    }
   ],
   "source": [
    "!pip install qrcode[pil]"
   ]
  },
  {
   "cell_type": "code",
   "execution_count": 1,
   "id": "96568390-556c-4574-ba80-eb2c8a61738b",
   "metadata": {},
   "outputs": [],
   "source": [
    "import qrcode\n",
    "\n",
    "# Your data\n",
    "data = \"https://github.com/kashakmodii/Mini_Python_Projects\"\n",
    "\n",
    "# Generate QR code\n",
    "img = qrcode.make(data)\n",
    "\n",
    "# Save it\n",
    "img.save(\"Small_Projects.png\")"
   ]
  },
  {
   "cell_type": "code",
   "execution_count": null,
   "id": "43fdd5e1-b9a5-40d8-a7b5-c862e5e32134",
   "metadata": {},
   "outputs": [],
   "source": []
  }
 ],
 "metadata": {
  "kernelspec": {
   "display_name": "Python 3 (ipykernel)",
   "language": "python",
   "name": "python3"
  },
  "language_info": {
   "codemirror_mode": {
    "name": "ipython",
    "version": 3
   },
   "file_extension": ".py",
   "mimetype": "text/x-python",
   "name": "python",
   "nbconvert_exporter": "python",
   "pygments_lexer": "ipython3",
   "version": "3.12.4"
  }
 },
 "nbformat": 4,
 "nbformat_minor": 5
}
