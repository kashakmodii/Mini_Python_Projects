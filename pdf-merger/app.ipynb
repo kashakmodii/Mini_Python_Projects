{
 "cells": [
  {
   "cell_type": "markdown",
   "metadata": {},
   "source": [
    "# 📄 PDF Fusion Pro\n",
    "### *The Smart PDF Merger*\n",
    "---\n",
    "**Created by**: [Your Name]  \n",
    "**Tech Stack**: Flask, PykePDF  \n",
    "**GitHub**: [Mini_Python_Projects](https://github.com/yourusername/Mini_Python_Projects)"
   ]
  },
  {
   "cell_type": "markdown",
   "metadata": {},
   "source": [
    "## 🚀 Quick Start\n",
    "1. Run all cells below\n",
    "2. Open the generated link\n",
    "3. Upload & merge your PDFs!"
   ]
  },
  {
   "cell_type": "code",
   "execution_count": null,
   "metadata": {},
   "outputs": [],
   "source": [
    "# Install required package\n",
    "!pip install pikepdf flask -q"
   ]
  },
  {
   "cell_type": "markdown",
   "metadata": {},
   "source": [
    "## ⚙️ Core Engine"
   ]
  },
  {
   "cell_type": "code",
   "execution_count": null,
   "metadata": {},
   "outputs": [],
   "source": [
    "from flask import Flask, request, render_template, send_file\n",
    "from pikepdf import Pdf\n",
    "import os\n",
    "import threading\n",
    "import ipywidgets as widgets\n",
    "from IPython.display import display, HTML\n",
    "\n",
    "# Initialize Flask\n",
    "app = Flask(__name__)\n",
    "os.makedirs(\"uploads\", exist_ok=True)\n",
    "\n",
    "@app.route('/')\n",
    "def home():\n",
    "    return render_template(\"index.html\")\n",
    "\n",
    "@app.route('/merge', methods=['POST'])\n",
    "def merge():\n",
    "    \"\"\"Merge uploaded PDFs into single file\"\"\"\n",
    "    merged_pdf = Pdf.new()\n",
    "    \n",
    "    for f in request.files.getlist(\"pdfs\"):\n",
    "        path = os.path.join(\"uploads\", f.filename)\n",
    "        f.save(path)\n",
    "        merged_pdf.pages.extend(Pdf.open(path).pages)\n",
    "    \n",
    "    output_path = \"uploads/Merged_Result.pdf\"\n",
    "    merged_pdf.save(output_path)\n",
    "    return send_file(output_path, as_attachment=True)\n",
    "\n",
    "# Launch with visual feedback\n",
    "def start_server():\n",
    "    app.run(port=5000)\n",
    "\n",
    "thread = threading.Thread(target=start_server)\n",
    "thread.daemon = True\n",
    "thread.start()\n",
    "\n",
    "# Display clickable link\n",
    "display(HTML('<h3>🌐 <a href=\"http://localhost:5000\" target=\"_blank\">Open PDF Merger</a></h3>'))"
   ]
  },
  {
   "cell_type": "markdown",
   "metadata": {},
   "source": [
    "## 🛠️ How It Works\n",
    "1. **File Upload**: Receives multiple PDFs via web interface\n",
    "2. **PDF Processing**: Uses PykePDF for lossless merging\n",
    "3. **Download**: Returns merged file as downloadable PDF\n",
    "\n",
    "![Workflow](https://i.imgur.com/JQ0qX8l.png)"
   ]
  },
  {
   "cell_type": "markdown",
   "metadata": {},
   "source": [
    "## 💡 Pro Tips\n",
    "- Max recommended: 50 pages per merge\n",
    "- Works best with same-page-size PDFs\n",
    "- Check terminal for debug info"
   ]
  }
 ],
 "metadata": {
  "kernelspec": {
   "display_name": "Python 3",
   "language": "python",
   "name": "python3"
  }
 }
}
